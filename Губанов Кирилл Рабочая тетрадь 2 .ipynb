{
 "cells": [
  {
   "cell_type": "markdown",
   "id": "fc082e37",
   "metadata": {},
   "source": [
    "## Дисциплина «Информационные технологии»\n",
    "## Рабочая тетрадь № 2\n",
    "<br><p style=\"text-indent: 40px\">Цель машинного обучения – анализ данных.\n",
    "Данные – зарегистрированная информация; представление фактов,\n",
    "понятий или инструкций в форме, приемлемой для общения,\n",
    "интерпретации, или обработки человеком или с помощью автоматических\n",
    "средств (ISO/IEC/IEEE 24765-2010).\n",
    "<br><p style=\"text-indent: 40px\"><b>Данные в машинном обучении</b> – это представление информации об\n",
    "исследуемой задаче в виде множеств исследуемых объектов и множеств их\n",
    "характеристик, на основе которых строятся модели, разрабатываются\n",
    "подходы, методы и алгоритмы анализа для принятия решений.\n",
    "Качество данных – важный аспект машинного обучения.\n",
    "Для Аналитика (Data Scientist, Data Analyst, Data Mining Engineer)\n",
    "очень важно обладать правильными данными, что гарантирует\n",
    "эффективность обработки и построении прогнозов. На рисунке 1\n",
    "представлены основные требования к данным.\n",
    "Остановимся на основных этапах решения задач машинного\n",
    "обучения.\n",
    "Этапы решения задач машинного обучения:\n",
    "1. Постановка задачи.\n",
    "2. Сбор и подготовка данных.\n",
    "3. Предобработка данных и выделение ключевых признаков.\n",
    "4. Выбор алгоритмов машинного обучения.\n",
    "5. Обучение модели (моделей).\n",
    "6. Оценка качества.\n",
    "7. Эксплуатация модели.\n",
    "<br><p style=\"text-indent: 40px\">При подготовке данных можно применять следующие операции:\n",
    "- структурирование – приведение данных к табличному (матричному)\n",
    "виду;\n",
    "- заполнение пропусков;\n",
    "- отбор – исключение записей с отсутствующими или некорректными\n",
    "значениями, если нет возможности заполнения и устранения\n",
    "противоречивости;\n",
    "- нормализация – приведение числовых значений к определенному\n",
    "диапазону, например к диапазону 0...1;\n",
    "- кодирование – это представление категориальных данных в числовой\n",
    "форме."
   ]
  },
  {
   "cell_type": "markdown",
   "id": "30a82582",
   "metadata": {},
   "source": [
    "## 1.1. Теоретический материал – Библиотека NumPy\n",
    "<br><p style=\"text-indent: 40px\">NumPy (NumericalPython) - это библиотека Python с открытым\n",
    "исходным кодом, которая используется практически во всех областях науки\n",
    "и техники. Это универсальный стандарт для работы с числовыми данными в\n",
    "Python.\n",
    "<br><p style=\"text-indent: 40px\">Если у вас уже есть Python, вы можете установить NumPy с помощью\n",
    "командной строки:\n",
    "<b><p>pip install numpy</b>\n",
    "<p style=\"text-indent: 40px\">Чтобы начать использовать NumPy необходимо импортировать\n",
    "соответствующую библиотеку:\n",
    "<p><b>import numpy as np</b>\n",
    "<br><p style=\"text-indent: 40px\">Основным объектом NumPy является однородный многомерный\n",
    "массив (в numpy называется numpy.ndarray). Это многомерный массив\n",
    "элементов (обычно чисел), одного типа.\n",
    "<br><p style=\"text-indent: 40px\">Наиболее важные атрибуты объектов ndarray:\n",
    "<br><b>ndarray.ndim</b> - число измерений (чаще их называют \"оси\") массива.\n",
    "<br><b>ndarray.shape</b> - размеры массива, его форма. Это кортеж натуральных\n",
    "чисел, показывающий длину массива по каждой оси. Для матрицы из n строк\n",
    "и m столбов, shape будет (n,m). Число элементов кортежа shape равно ndim.\n",
    "<br><b>ndarray.size</b> - количество элементов массива. Очевидно, равно\n",
    "произведению всех элементов атрибута shape.\n",
    "ndarray.dtype - объект, описывающий тип элементов массива. Можно\n",
    "определить dtype, используя стандартные типы данных Python. NumPy здесь\n",
    "предоставляет целый букет возможностей, как встроенных, например: bool_,\n",
    "character, int8, int16, int32, int64, float8, float16, float32, float64, complex64,\n",
    "object_, так и возможность определить собственные типы данных, в том\n",
    "числе и составные.\n",
    "<br><b>ndarray.itemsize</b> - размер каждого элемента массива в байтах.\n",
    "<br><b>ndarray.data</b> - буфер, содержащий фактические элементы массива.\n",
    "Обычно не нужно использовать этот атрибут, так как обращаться к\n",
    "элементам массива проще всего с помощью индексов.\n",
    "Подробнее о массивах в NumPy можно найти в официальной\n",
    "документации https://numpy.org/doc/stable/user/absolute_beginners.html"
   ]
  },
  {
   "cell_type": "markdown",
   "id": "2ff4653a",
   "metadata": {},
   "source": [
    "## 1.2.1 Пример\n",
    "Задача: Создать массив 5x2. Создать массив 5x2. Вывести все значения массива,\n",
    "значение элемента с индексом (3,1) и второй столбец. Индексация\n",
    "начинается с нуля."
   ]
  },
  {
   "cell_type": "code",
   "execution_count": 1,
   "id": "2be29068",
   "metadata": {},
   "outputs": [
    {
     "name": "stdout",
     "output_type": "stream",
     "text": [
      "[[ 1  2]\n",
      " [ 3  4]\n",
      " [ 5  6]\n",
      " [ 7  8]\n",
      " [ 9 10]]\n",
      "8\n",
      "[3 4]\n"
     ]
    }
   ],
   "source": [
    "import numpy as np\n",
    "x = np.array([[1, 2],[3, 4],[5, 6],[7, 8],[9, 10]])\n",
    "print(x)\n",
    "print(x[3][1])\n",
    "print(x[1])"
   ]
  },
  {
   "cell_type": "markdown",
   "id": "6daf2fe2",
   "metadata": {},
   "source": [
    "## 1.2.2 Пример\n",
    "Задача:\n",
    "Пример. Выполнить следующее:\n",
    "1. Создать вектор (одномерный массив) размера 10, заполненный\n",
    "нулями.\n",
    "2. Создать вектор размера 10, заполненный единицами.\n",
    "3. Создать вектор размера 10, заполненный заданным числом.\n",
    "4. Создать вектор со значениями от 10 до 49.\n"
   ]
  },
  {
   "cell_type": "code",
   "execution_count": 2,
   "id": "a42557b6",
   "metadata": {},
   "outputs": [
    {
     "name": "stdout",
     "output_type": "stream",
     "text": [
      "[0. 0. 0. 0. 0. 0. 0. 0. 0. 0.] \n",
      " [1. 1. 1. 1. 1. 1. 1. 1. 1. 1.] \n",
      " [5 5 5 5 5 5 5 5 5 5] \n",
      " [10 11 12 13 14 15 16 17 18 19]\n"
     ]
    }
   ],
   "source": [
    "import numpy as np\n",
    "a = np.zeros(10)\n",
    "b = np.ones(10)\n",
    "c = np.full(10,5)\n",
    "d = np.arange(10,20)\n",
    "print(a, \"\\n\", b, \"\\n\", c, \"\\n\",d)"
   ]
  },
  {
   "cell_type": "markdown",
   "id": "3b9ceb27",
   "metadata": {},
   "source": [
    "## 1.2.3 Пример\n",
    "Задача: Создать массив 10x10 со случайными значениями, найти минимум,\n",
    "максимум и среднее значение."
   ]
  },
  {
   "cell_type": "code",
   "execution_count": 3,
   "id": "97db743d",
   "metadata": {},
   "outputs": [
    {
     "name": "stdout",
     "output_type": "stream",
     "text": [
      "0.015211721158510327 0.999556071589783 0.4786784594915137\n"
     ]
    }
   ],
   "source": [
    "Z = np.random.random((10,10))\n",
    "Zmin, Zmax, Zmean = Z.min(), Z.max(), Z.mean()\n",
    "print(Zmin, Zmax, Zmean)"
   ]
  },
  {
   "cell_type": "markdown",
   "id": "85b94085",
   "metadata": {},
   "source": [
    "## 1.2.4 Пример\n",
    "Задача: Задать матрицу размерности 5 на 5 и поменять 2 строки в матрице\n",
    "местами."
   ]
  },
  {
   "cell_type": "code",
   "execution_count": 4,
   "id": "7deba998",
   "metadata": {},
   "outputs": [
    {
     "name": "stdout",
     "output_type": "stream",
     "text": [
      "[[ 0  1  2  3  4]\n",
      " [ 5  6  7  8  9]\n",
      " [10 11 12 13 14]\n",
      " [15 16 17 18 19]\n",
      " [20 21 22 23 24]]\n"
     ]
    }
   ],
   "source": [
    "A = np.arange(25).reshape(5,5)\n",
    "A[[0,1]] = A[[0,1]]\n",
    "print(A)"
   ]
  },
  {
   "cell_type": "markdown",
   "id": "f27ece5e",
   "metadata": {},
   "source": [
    "## 1.2.5 Пример\n",
    "Задача: Выяснить результат следующих выражений:\n",
    "<br>0 * np.nan\n",
    "<br>np.nan == np.nan\n",
    "<br>np.inf > np.nan\n",
    "<br>np.nan - np.nan\n",
    "<br>0.3 == 3 * 0.1"
   ]
  },
  {
   "cell_type": "code",
   "execution_count": 5,
   "id": "284b829a",
   "metadata": {},
   "outputs": [
    {
     "name": "stdout",
     "output_type": "stream",
     "text": [
      "nan\n",
      "False\n",
      "False\n",
      "nan\n",
      "False\n"
     ]
    }
   ],
   "source": [
    "print(0 * np.nan)\n",
    "print(np.nan == np.nan)\n",
    "print(np.inf > np.nan)\n",
    "print(np.nan - np.nan)\n",
    "print(0.3 == 3 * 0.1)"
   ]
  },
  {
   "cell_type": "markdown",
   "id": "f1a59e1f",
   "metadata": {},
   "source": [
    "## 1.2.6 Пример\n",
    "Задача: Отсортировать массив."
   ]
  },
  {
   "cell_type": "code",
   "execution_count": 6,
   "id": "3ee46f6a",
   "metadata": {},
   "outputs": [
    {
     "name": "stdout",
     "output_type": "stream",
     "text": [
      "[1 2 3 4 5 6 7 8]\n"
     ]
    }
   ],
   "source": [
    "arr = np.array([2,1,5,3,7,4,6,8])\n",
    "print(np.sort(arr))"
   ]
  },
  {
   "cell_type": "markdown",
   "id": "8b971eb0",
   "metadata": {},
   "source": [
    "## 1.3.1 Задание\n",
    "Задача: Создать 8x8 матрицу и заполнить её в шахматном порядке нулями и\n",
    "единицами.\n"
   ]
  },
  {
   "cell_type": "code",
   "execution_count": 7,
   "id": "a1d77276",
   "metadata": {},
   "outputs": [
    {
     "name": "stdout",
     "output_type": "stream",
     "text": [
      "[[0 1 0 1 0 1 0 1]\n",
      " [1 0 1 0 1 0 1 0]\n",
      " [0 1 0 1 0 1 0 1]\n",
      " [1 0 1 0 1 0 1 0]\n",
      " [0 1 0 1 0 1 0 1]\n",
      " [1 0 1 0 1 0 1 0]\n",
      " [0 1 0 1 0 1 0 1]\n",
      " [1 0 1 0 1 0 1 0]]\n"
     ]
    }
   ],
   "source": [
    "import numpy as np\n",
    "X = np.tile(np.array([[0,1],[1,0]]), (4,4))\n",
    "print(X)"
   ]
  },
  {
   "cell_type": "markdown",
   "id": "1b9d925b",
   "metadata": {},
   "source": [
    "## 1.3.2 Задание\n",
    "Задача: Создать 5x5 матрицу со значениями в строках от 0 до 4. Для\n",
    "создания необходимо использовать функцию arrange.\n"
   ]
  },
  {
   "cell_type": "code",
   "execution_count": 8,
   "id": "7be0b29a",
   "metadata": {},
   "outputs": [
    {
     "name": "stdout",
     "output_type": "stream",
     "text": [
      "[[0. 1. 2. 3. 4.]\n",
      " [0. 1. 2. 3. 4.]\n",
      " [0. 1. 2. 3. 4.]\n",
      " [0. 1. 2. 3. 4.]\n",
      " [0. 1. 2. 3. 4.]]\n"
     ]
    }
   ],
   "source": [
    "import numpy as np\n",
    "x = np.zeros((5,5))\n",
    "x += np.arange(5)\n",
    "print(x)"
   ]
  },
  {
   "cell_type": "markdown",
   "id": "006d3b3c",
   "metadata": {},
   "source": [
    "## 1.3.3 Задание\n",
    "Задача: Создать массив 3x3x3 со случайными значениями."
   ]
  },
  {
   "cell_type": "code",
   "execution_count": 9,
   "id": "8b03e3fb",
   "metadata": {},
   "outputs": [
    {
     "name": "stdout",
     "output_type": "stream",
     "text": [
      "[[[0.32031069 0.77304765 0.55284076]\n",
      "  [0.77662442 0.07797305 0.00304995]\n",
      "  [0.74528166 0.3250963  0.65974444]]\n",
      "\n",
      " [[0.94465834 0.43835043 0.24261158]\n",
      "  [0.35862186 0.4065574  0.76429983]\n",
      "  [0.5088714  0.29052779 0.29137651]]\n",
      "\n",
      " [[0.85948989 0.45512962 0.2965531 ]\n",
      "  [0.49391172 0.4407814  0.80334959]\n",
      "  [0.81695839 0.07202971 0.02458868]]]\n"
     ]
    }
   ],
   "source": [
    "Z = np.random.random((3,3,3))\n",
    "print(Z)"
   ]
  },
  {
   "cell_type": "markdown",
   "id": "3455cd8f",
   "metadata": {},
   "source": [
    "## 1.3.4 Задание\n",
    "Задача: Создать матрицу с 0 внутри, и 1 на границах."
   ]
  },
  {
   "cell_type": "code",
   "execution_count": 10,
   "id": "1b1ac702",
   "metadata": {},
   "outputs": [
    {
     "name": "stdout",
     "output_type": "stream",
     "text": [
      "[[1. 1. 1.]\n",
      " [1. 0. 1.]\n",
      " [1. 1. 1.]]\n"
     ]
    }
   ],
   "source": [
    "Z = np.ones((3,3))\n",
    "Z[1:-1,1:-1] = 0\n",
    "print(Z)"
   ]
  },
  {
   "cell_type": "markdown",
   "id": "99e43cc4",
   "metadata": {},
   "source": [
    "## 1.3.5 Задание\n",
    "Задача: Создайте массив и отсортируйте его по убыванию."
   ]
  },
  {
   "cell_type": "code",
   "execution_count": 11,
   "id": "a474f8fa",
   "metadata": {},
   "outputs": [
    {
     "name": "stdout",
     "output_type": "stream",
     "text": [
      "Созданный массив [1, 3, 7, 6, 31, 14, 54]\n",
      "Отсортированный массив [54, 31, 14, 7, 6, 3, 1]\n"
     ]
    }
   ],
   "source": [
    "import numpy as np\n",
    "a = [1,3,7,6,31,14,54]\n",
    "print('Созданный массив', a)\n",
    "a.sort(reverse=True)\n",
    "print('Отсортированный массив', a)"
   ]
  },
  {
   "cell_type": "markdown",
   "id": "fc9f402c",
   "metadata": {},
   "source": [
    "## 1.3.6 Задание\n",
    "Задача: Создайте матрицу, выведите ее форму, размер и размерность."
   ]
  },
  {
   "cell_type": "code",
   "execution_count": 12,
   "id": "ed4fd13e",
   "metadata": {},
   "outputs": [
    {
     "name": "stdout",
     "output_type": "stream",
     "text": [
      "(5, 5)\n"
     ]
    }
   ],
   "source": [
    "import numpy as np\n",
    "A = np.arange(25).reshape(5,5)\n",
    "A[[0,1]] = A[[0,1]] \n",
    "print(np.shape(A))"
   ]
  },
  {
   "cell_type": "markdown",
   "id": "74e2f591",
   "metadata": {},
   "source": [
    "## 2.1. Теоретический материал – Библиотека Pandas\n",
    "<p style=\"text-indent: 40px\">Первым шагом в любом начинании в области машинного обучения\n",
    "является введение исходных данных в систему. Исходные данные могут\n",
    "вводиться вручную, содержаться в файле или храниться в интернете в какомлибо формате. Кроме того, часто требуется получить данные из нескольких\n",
    "источников.\n",
    "<p style=\"text-indent: 40px\"><b>Библиотека pandas</b> – это удобный и быстрый инструмент для работы\n",
    "с данными, обладающий большим функционалом. Если очень кратко, то\n",
    "pandas – это библиотека, которая предоставляет очень удобные с точки\n",
    "зрения использования инструменты для хранения данных и работе с ними.\n",
    "<p style=\"text-indent: 40px\"><b>Библиотека pandas</b> присутствует в стандартной поставке Anaconda.\n",
    "Если же ее там нет, то его можно установить отдельно. Для этого введите\n",
    "командной строке:\n",
    "<p style=\"text-indent: 40px\">pip install pandas\n",
    "<p>Для импорта библиотеки используйте команду:\n",
    "<p style=\"text-indent: 40px\">import pandas as pd\n",
    "<p>Библиотека pandas предоставляет две ключевые структуры данных:\n",
    "Series и DataFrame.\n",
    "<p style=\"text-indent: 40px\"><b>Series</b> – это одномерная структура данных, ее можно представить, как\n",
    "таблицу с одной строкой. С Series можно работать как с обычным массивом\n",
    "(обращаться по номеру индекса), и как с ассоциированным массивом, когда\n",
    "можно использовать ключ для доступа к элементам данных.\n",
    "<p style=\"text-indent: 40px\"><b>DataFrame</b> – это двумерная структура. Идейно она очень похожа на\n",
    "обычную таблицу, что выражается в способе ее создания и работе с ее\n",
    "элементами."
   ]
  },
  {
   "cell_type": "markdown",
   "id": "cfeb5490",
   "metadata": {},
   "source": [
    "## 2.2.1 Пример\n",
    "Задача: Создать Series из списка Python, словаря Python, и массива Numpy\n",
    "(установить буквенные метки для последнего)."
   ]
  },
  {
   "cell_type": "code",
   "execution_count": 13,
   "id": "36591f37",
   "metadata": {},
   "outputs": [
    {
     "name": "stdout",
     "output_type": "stream",
     "text": [
      "0    1\n",
      "1    2\n",
      "2    3\n",
      "3    4\n",
      "4    5\n",
      "dtype: int64\n",
      "a    1\n",
      "b    2\n",
      "c    3\n",
      "dtype: int64\n",
      "a    1\n",
      "b    2\n",
      "c    3\n",
      "d    4\n",
      "e    5\n",
      "dtype: int32\n"
     ]
    }
   ],
   "source": [
    "import pandas as pd\n",
    "lst = [1,2,3,4,5]\n",
    "d = {'a':1, 'b':2, 'c':3}\n",
    "ndarr = np.array([1,2,3,4,5])\n",
    "s1 = pd.Series(lst)\n",
    "s2 = pd.Series(d)\n",
    "s3 = pd.Series(ndarr, ['a','b','c','d','e'])\n",
    "print(s1)\n",
    "print(s2)\n",
    "print(s3)"
   ]
  },
  {
   "cell_type": "markdown",
   "id": "4fb2ed5c",
   "metadata": {},
   "source": [
    "## 2.2.2 Пример\n",
    "Задача: Дано два Series. Напечатать их первые элементы и все элементы после\n",
    "третьего (во втором фрейме)."
   ]
  },
  {
   "cell_type": "code",
   "execution_count": 14,
   "id": "347d44d0",
   "metadata": {},
   "outputs": [
    {
     "name": "stdout",
     "output_type": "stream",
     "text": [
      "1\n",
      "5\n",
      "3    2\n",
      "4    1\n",
      "dtype: int64\n"
     ]
    }
   ],
   "source": [
    "s1 = pd.Series([1,2,3,4,5], ['a','b','c','d','e'])\n",
    "s2 = pd.Series([5,4,3,2,1])\n",
    "print(s1['a'])\n",
    "print(s2[0])\n",
    "print(s2[3:])"
   ]
  },
  {
   "cell_type": "markdown",
   "id": "2fe23e3a",
   "metadata": {},
   "source": [
    "## 2.2.3 Пример\n",
    "Задача: Создайте новый фрейм данных."
   ]
  },
  {
   "cell_type": "code",
   "execution_count": 15,
   "id": "8bcf28cb",
   "metadata": {},
   "outputs": [
    {
     "data": {
      "text/html": [
       "<div>\n",
       "<style scoped>\n",
       "    .dataframe tbody tr th:only-of-type {\n",
       "        vertical-align: middle;\n",
       "    }\n",
       "\n",
       "    .dataframe tbody tr th {\n",
       "        vertical-align: top;\n",
       "    }\n",
       "\n",
       "    .dataframe thead th {\n",
       "        text-align: right;\n",
       "    }\n",
       "</style>\n",
       "<table border=\"1\" class=\"dataframe\">\n",
       "  <thead>\n",
       "    <tr style=\"text-align: right;\">\n",
       "      <th></th>\n",
       "      <th>Имя</th>\n",
       "      <th>Возраст</th>\n",
       "      <th>Водитель</th>\n",
       "    </tr>\n",
       "  </thead>\n",
       "  <tbody>\n",
       "    <tr>\n",
       "      <th>0</th>\n",
       "      <td>Джеки Джексон</td>\n",
       "      <td>38</td>\n",
       "      <td>True</td>\n",
       "    </tr>\n",
       "    <tr>\n",
       "      <th>1</th>\n",
       "      <td>Стивен Стивенсон</td>\n",
       "      <td>25</td>\n",
       "      <td>False</td>\n",
       "    </tr>\n",
       "  </tbody>\n",
       "</table>\n",
       "</div>"
      ],
      "text/plain": [
       "                Имя  Возраст  Водитель\n",
       "0     Джеки Джексон       38      True\n",
       "1  Стивен Стивенсон       25     False"
      ]
     },
     "execution_count": 15,
     "metadata": {},
     "output_type": "execute_result"
    }
   ],
   "source": [
    "dataframe = pd.DataFrame()\n",
    "dataframe['Имя'] = ['Джеки Джексон','Стивен Стивенсон']\n",
    "dataframe['Возраст'] = [38,25]\n",
    "dataframe['Водитель'] = [True,False]\n",
    "dataframe"
   ]
  },
  {
   "cell_type": "code",
   "execution_count": 16,
   "id": "f6600141",
   "metadata": {
    "scrolled": true
   },
   "outputs": [
    {
     "data": {
      "text/html": [
       "<div>\n",
       "<style scoped>\n",
       "    .dataframe tbody tr th:only-of-type {\n",
       "        vertical-align: middle;\n",
       "    }\n",
       "\n",
       "    .dataframe tbody tr th {\n",
       "        vertical-align: top;\n",
       "    }\n",
       "\n",
       "    .dataframe thead th {\n",
       "        text-align: right;\n",
       "    }\n",
       "</style>\n",
       "<table border=\"1\" class=\"dataframe\">\n",
       "  <thead>\n",
       "    <tr style=\"text-align: right;\">\n",
       "      <th></th>\n",
       "      <th>Name</th>\n",
       "      <th>PClass</th>\n",
       "      <th>Age</th>\n",
       "      <th>Sex</th>\n",
       "      <th>Survived</th>\n",
       "      <th>SexCode</th>\n",
       "    </tr>\n",
       "  </thead>\n",
       "  <tbody>\n",
       "    <tr>\n",
       "      <th>0</th>\n",
       "      <td>Allen, Miss Elisabeth Walton</td>\n",
       "      <td>1st</td>\n",
       "      <td>29.00</td>\n",
       "      <td>female</td>\n",
       "      <td>1</td>\n",
       "      <td>1</td>\n",
       "    </tr>\n",
       "    <tr>\n",
       "      <th>1</th>\n",
       "      <td>Allison, Miss Helen Loraine</td>\n",
       "      <td>1st</td>\n",
       "      <td>2.00</td>\n",
       "      <td>female</td>\n",
       "      <td>0</td>\n",
       "      <td>1</td>\n",
       "    </tr>\n",
       "    <tr>\n",
       "      <th>2</th>\n",
       "      <td>Allison, Mr Hudson Joshua Creighton</td>\n",
       "      <td>1st</td>\n",
       "      <td>30.00</td>\n",
       "      <td>male</td>\n",
       "      <td>0</td>\n",
       "      <td>0</td>\n",
       "    </tr>\n",
       "    <tr>\n",
       "      <th>3</th>\n",
       "      <td>Allison, Mrs Hudson JC (Bessie Waldo Daniels)</td>\n",
       "      <td>1st</td>\n",
       "      <td>25.00</td>\n",
       "      <td>female</td>\n",
       "      <td>0</td>\n",
       "      <td>1</td>\n",
       "    </tr>\n",
       "    <tr>\n",
       "      <th>4</th>\n",
       "      <td>Allison, Master Hudson Trevor</td>\n",
       "      <td>1st</td>\n",
       "      <td>0.92</td>\n",
       "      <td>male</td>\n",
       "      <td>1</td>\n",
       "      <td>0</td>\n",
       "    </tr>\n",
       "    <tr>\n",
       "      <th>5</th>\n",
       "      <td>Anderson, Mr Harry</td>\n",
       "      <td>1st</td>\n",
       "      <td>47.00</td>\n",
       "      <td>male</td>\n",
       "      <td>1</td>\n",
       "      <td>0</td>\n",
       "    </tr>\n",
       "    <tr>\n",
       "      <th>6</th>\n",
       "      <td>Andrews, Miss Kornelia Theodosia</td>\n",
       "      <td>1st</td>\n",
       "      <td>63.00</td>\n",
       "      <td>female</td>\n",
       "      <td>1</td>\n",
       "      <td>1</td>\n",
       "    </tr>\n",
       "    <tr>\n",
       "      <th>7</th>\n",
       "      <td>Andrews, Mr Thomas, jr</td>\n",
       "      <td>1st</td>\n",
       "      <td>39.00</td>\n",
       "      <td>male</td>\n",
       "      <td>0</td>\n",
       "      <td>0</td>\n",
       "    </tr>\n",
       "    <tr>\n",
       "      <th>8</th>\n",
       "      <td>Appleton, Mrs Edward Dale (Charlotte Lamson)</td>\n",
       "      <td>1st</td>\n",
       "      <td>58.00</td>\n",
       "      <td>female</td>\n",
       "      <td>1</td>\n",
       "      <td>1</td>\n",
       "    </tr>\n",
       "    <tr>\n",
       "      <th>9</th>\n",
       "      <td>Artagaveytia, Mr Ramon</td>\n",
       "      <td>1st</td>\n",
       "      <td>71.00</td>\n",
       "      <td>male</td>\n",
       "      <td>0</td>\n",
       "      <td>0</td>\n",
       "    </tr>\n",
       "  </tbody>\n",
       "</table>\n",
       "</div>"
      ],
      "text/plain": [
       "                                            Name PClass    Age     Sex  \\\n",
       "0                   Allen, Miss Elisabeth Walton    1st  29.00  female   \n",
       "1                    Allison, Miss Helen Loraine    1st   2.00  female   \n",
       "2            Allison, Mr Hudson Joshua Creighton    1st  30.00    male   \n",
       "3  Allison, Mrs Hudson JC (Bessie Waldo Daniels)    1st  25.00  female   \n",
       "4                  Allison, Master Hudson Trevor    1st   0.92    male   \n",
       "5                             Anderson, Mr Harry    1st  47.00    male   \n",
       "6               Andrews, Miss Kornelia Theodosia    1st  63.00  female   \n",
       "7                         Andrews, Mr Thomas, jr    1st  39.00    male   \n",
       "8   Appleton, Mrs Edward Dale (Charlotte Lamson)    1st  58.00  female   \n",
       "9                         Artagaveytia, Mr Ramon    1st  71.00    male   \n",
       "\n",
       "   Survived  SexCode  \n",
       "0         1        1  \n",
       "1         0        1  \n",
       "2         0        0  \n",
       "3         0        1  \n",
       "4         1        0  \n",
       "5         1        0  \n",
       "6         1        1  \n",
       "7         0        0  \n",
       "8         1        1  \n",
       "9         0        0  "
      ]
     },
     "execution_count": 16,
     "metadata": {},
     "output_type": "execute_result"
    }
   ],
   "source": [
    "url = 'https://raw.githubusercontent.com/chrisalbon/simulated_datasets/master/titanic.csv'\n",
    "dataframe = pd.read_csv(url)\n",
    "dataframe.head(10)"
   ]
  },
  {
   "cell_type": "markdown",
   "id": "2ab61950",
   "metadata": {},
   "source": [
    "## 2.2.5 Пример\n",
    "Задача: Пронализировать характеристики фрейма данных."
   ]
  },
  {
   "cell_type": "code",
   "execution_count": 6,
   "id": "aa98b93e",
   "metadata": {},
   "outputs": [
    {
     "data": {
      "text/html": [
       "<div>\n",
       "<style scoped>\n",
       "    .dataframe tbody tr th:only-of-type {\n",
       "        vertical-align: middle;\n",
       "    }\n",
       "\n",
       "    .dataframe tbody tr th {\n",
       "        vertical-align: top;\n",
       "    }\n",
       "\n",
       "    .dataframe thead th {\n",
       "        text-align: right;\n",
       "    }\n",
       "</style>\n",
       "<table border=\"1\" class=\"dataframe\">\n",
       "  <thead>\n",
       "    <tr style=\"text-align: right;\">\n",
       "      <th></th>\n",
       "      <th>Name</th>\n",
       "      <th>PClass</th>\n",
       "      <th>Age</th>\n",
       "      <th>Sex</th>\n",
       "      <th>Survived</th>\n",
       "      <th>SexCode</th>\n",
       "    </tr>\n",
       "  </thead>\n",
       "  <tbody>\n",
       "    <tr>\n",
       "      <th>0</th>\n",
       "      <td>Allen, Miss Elisabeth Walton</td>\n",
       "      <td>1st</td>\n",
       "      <td>29.00</td>\n",
       "      <td>female</td>\n",
       "      <td>1</td>\n",
       "      <td>1</td>\n",
       "    </tr>\n",
       "    <tr>\n",
       "      <th>1</th>\n",
       "      <td>Allison, Miss Helen Loraine</td>\n",
       "      <td>1st</td>\n",
       "      <td>2.00</td>\n",
       "      <td>female</td>\n",
       "      <td>0</td>\n",
       "      <td>1</td>\n",
       "    </tr>\n",
       "    <tr>\n",
       "      <th>2</th>\n",
       "      <td>Allison, Mr Hudson Joshua Creighton</td>\n",
       "      <td>1st</td>\n",
       "      <td>30.00</td>\n",
       "      <td>male</td>\n",
       "      <td>0</td>\n",
       "      <td>0</td>\n",
       "    </tr>\n",
       "    <tr>\n",
       "      <th>3</th>\n",
       "      <td>Allison, Mrs Hudson JC (Bessie Waldo Daniels)</td>\n",
       "      <td>1st</td>\n",
       "      <td>25.00</td>\n",
       "      <td>female</td>\n",
       "      <td>0</td>\n",
       "      <td>1</td>\n",
       "    </tr>\n",
       "    <tr>\n",
       "      <th>4</th>\n",
       "      <td>Allison, Master Hudson Trevor</td>\n",
       "      <td>1st</td>\n",
       "      <td>0.92</td>\n",
       "      <td>male</td>\n",
       "      <td>1</td>\n",
       "      <td>0</td>\n",
       "    </tr>\n",
       "    <tr>\n",
       "      <th>5</th>\n",
       "      <td>Anderson, Mr Harry</td>\n",
       "      <td>1st</td>\n",
       "      <td>47.00</td>\n",
       "      <td>male</td>\n",
       "      <td>1</td>\n",
       "      <td>0</td>\n",
       "    </tr>\n",
       "    <tr>\n",
       "      <th>6</th>\n",
       "      <td>Andrews, Miss Kornelia Theodosia</td>\n",
       "      <td>1st</td>\n",
       "      <td>63.00</td>\n",
       "      <td>female</td>\n",
       "      <td>1</td>\n",
       "      <td>1</td>\n",
       "    </tr>\n",
       "    <tr>\n",
       "      <th>7</th>\n",
       "      <td>Andrews, Mr Thomas, jr</td>\n",
       "      <td>1st</td>\n",
       "      <td>39.00</td>\n",
       "      <td>male</td>\n",
       "      <td>0</td>\n",
       "      <td>0</td>\n",
       "    </tr>\n",
       "    <tr>\n",
       "      <th>8</th>\n",
       "      <td>Appleton, Mrs Edward Dale (Charlotte Lamson)</td>\n",
       "      <td>1st</td>\n",
       "      <td>58.00</td>\n",
       "      <td>female</td>\n",
       "      <td>1</td>\n",
       "      <td>1</td>\n",
       "    </tr>\n",
       "    <tr>\n",
       "      <th>9</th>\n",
       "      <td>Artagaveytia, Mr Ramon</td>\n",
       "      <td>1st</td>\n",
       "      <td>71.00</td>\n",
       "      <td>male</td>\n",
       "      <td>0</td>\n",
       "      <td>0</td>\n",
       "    </tr>\n",
       "    <tr>\n",
       "      <th>10</th>\n",
       "      <td>Astor, Colonel John Jacob</td>\n",
       "      <td>1st</td>\n",
       "      <td>47.00</td>\n",
       "      <td>male</td>\n",
       "      <td>0</td>\n",
       "      <td>0</td>\n",
       "    </tr>\n",
       "    <tr>\n",
       "      <th>11</th>\n",
       "      <td>Astor, Mrs John Jacob (Madeleine Talmadge Force)</td>\n",
       "      <td>1st</td>\n",
       "      <td>19.00</td>\n",
       "      <td>female</td>\n",
       "      <td>1</td>\n",
       "      <td>1</td>\n",
       "    </tr>\n",
       "    <tr>\n",
       "      <th>12</th>\n",
       "      <td>Aubert, Mrs Leontine Pauline</td>\n",
       "      <td>1st</td>\n",
       "      <td>25.00</td>\n",
       "      <td>female</td>\n",
       "      <td>1</td>\n",
       "      <td>1</td>\n",
       "    </tr>\n",
       "    <tr>\n",
       "      <th>13</th>\n",
       "      <td>Barkworth, Mr Algernon H</td>\n",
       "      <td>1st</td>\n",
       "      <td>25.00</td>\n",
       "      <td>male</td>\n",
       "      <td>1</td>\n",
       "      <td>0</td>\n",
       "    </tr>\n",
       "    <tr>\n",
       "      <th>14</th>\n",
       "      <td>Baumann, Mr John D</td>\n",
       "      <td>1st</td>\n",
       "      <td>25.00</td>\n",
       "      <td>male</td>\n",
       "      <td>0</td>\n",
       "      <td>0</td>\n",
       "    </tr>\n",
       "    <tr>\n",
       "      <th>15</th>\n",
       "      <td>Baxter, Mrs James (Helene DeLaudeniere Chaput)</td>\n",
       "      <td>1st</td>\n",
       "      <td>50.00</td>\n",
       "      <td>female</td>\n",
       "      <td>1</td>\n",
       "      <td>1</td>\n",
       "    </tr>\n",
       "    <tr>\n",
       "      <th>16</th>\n",
       "      <td>Baxter, Mr Quigg Edmond</td>\n",
       "      <td>1st</td>\n",
       "      <td>24.00</td>\n",
       "      <td>male</td>\n",
       "      <td>0</td>\n",
       "      <td>0</td>\n",
       "    </tr>\n",
       "    <tr>\n",
       "      <th>17</th>\n",
       "      <td>Beattie, Mr Thomson</td>\n",
       "      <td>1st</td>\n",
       "      <td>36.00</td>\n",
       "      <td>male</td>\n",
       "      <td>0</td>\n",
       "      <td>0</td>\n",
       "    </tr>\n",
       "    <tr>\n",
       "      <th>18</th>\n",
       "      <td>Beckwith, Mr Richard Leonard</td>\n",
       "      <td>1st</td>\n",
       "      <td>37.00</td>\n",
       "      <td>male</td>\n",
       "      <td>1</td>\n",
       "      <td>0</td>\n",
       "    </tr>\n",
       "    <tr>\n",
       "      <th>19</th>\n",
       "      <td>Beckwith, Mrs Richard Leonard (Sallie Monypeny)</td>\n",
       "      <td>1st</td>\n",
       "      <td>47.00</td>\n",
       "      <td>female</td>\n",
       "      <td>1</td>\n",
       "      <td>1</td>\n",
       "    </tr>\n",
       "  </tbody>\n",
       "</table>\n",
       "</div>"
      ],
      "text/plain": [
       "                                                Name PClass    Age     Sex  \\\n",
       "0                       Allen, Miss Elisabeth Walton    1st  29.00  female   \n",
       "1                        Allison, Miss Helen Loraine    1st   2.00  female   \n",
       "2                Allison, Mr Hudson Joshua Creighton    1st  30.00    male   \n",
       "3      Allison, Mrs Hudson JC (Bessie Waldo Daniels)    1st  25.00  female   \n",
       "4                      Allison, Master Hudson Trevor    1st   0.92    male   \n",
       "5                                 Anderson, Mr Harry    1st  47.00    male   \n",
       "6                   Andrews, Miss Kornelia Theodosia    1st  63.00  female   \n",
       "7                             Andrews, Mr Thomas, jr    1st  39.00    male   \n",
       "8       Appleton, Mrs Edward Dale (Charlotte Lamson)    1st  58.00  female   \n",
       "9                             Artagaveytia, Mr Ramon    1st  71.00    male   \n",
       "10                         Astor, Colonel John Jacob    1st  47.00    male   \n",
       "11  Astor, Mrs John Jacob (Madeleine Talmadge Force)    1st  19.00  female   \n",
       "12                      Aubert, Mrs Leontine Pauline    1st  25.00  female   \n",
       "13                          Barkworth, Mr Algernon H    1st  25.00    male   \n",
       "14                                Baumann, Mr John D    1st  25.00    male   \n",
       "15    Baxter, Mrs James (Helene DeLaudeniere Chaput)    1st  50.00  female   \n",
       "16                           Baxter, Mr Quigg Edmond    1st  24.00    male   \n",
       "17                               Beattie, Mr Thomson    1st  36.00    male   \n",
       "18                      Beckwith, Mr Richard Leonard    1st  37.00    male   \n",
       "19   Beckwith, Mrs Richard Leonard (Sallie Monypeny)    1st  47.00  female   \n",
       "\n",
       "    Survived  SexCode  \n",
       "0          1        1  \n",
       "1          0        1  \n",
       "2          0        0  \n",
       "3          0        1  \n",
       "4          1        0  \n",
       "5          1        0  \n",
       "6          1        1  \n",
       "7          0        0  \n",
       "8          1        1  \n",
       "9          0        0  \n",
       "10         0        0  \n",
       "11         1        1  \n",
       "12         1        1  \n",
       "13         1        0  \n",
       "14         0        0  \n",
       "15         1        1  \n",
       "16         0        0  \n",
       "17         0        0  \n",
       "18         1        0  \n",
       "19         1        1  "
      ]
     },
     "execution_count": 6,
     "metadata": {},
     "output_type": "execute_result"
    }
   ],
   "source": [
    "import pandas as pd\n",
    "url = 'https://raw.githubusercontent.com/chrisalbon/simulated_datasets/master/titanic.csv'\n",
    "dataframe = pd.read_csv(url)\n",
    "dataframe['Age'].median()\n",
    "dataframe['Age'] = dataframe['Age'].fillna(25)\n",
    "dataframe.head(20)"
   ]
  },
  {
   "cell_type": "markdown",
   "id": "db189a11",
   "metadata": {},
   "source": [
    "## 2.2.6 Пример\n",
    "Задача: Выберите индивидуальные данные или срезы фрейма данных."
   ]
  },
  {
   "cell_type": "code",
   "execution_count": 18,
   "id": "8841d3c1",
   "metadata": {
    "scrolled": true
   },
   "outputs": [
    {
     "data": {
      "text/html": [
       "<div>\n",
       "<style scoped>\n",
       "    .dataframe tbody tr th:only-of-type {\n",
       "        vertical-align: middle;\n",
       "    }\n",
       "\n",
       "    .dataframe tbody tr th {\n",
       "        vertical-align: top;\n",
       "    }\n",
       "\n",
       "    .dataframe thead th {\n",
       "        text-align: right;\n",
       "    }\n",
       "</style>\n",
       "<table border=\"1\" class=\"dataframe\">\n",
       "  <thead>\n",
       "    <tr style=\"text-align: right;\">\n",
       "      <th></th>\n",
       "      <th>Name</th>\n",
       "      <th>PClass</th>\n",
       "      <th>Age</th>\n",
       "      <th>Sex</th>\n",
       "      <th>Survived</th>\n",
       "      <th>SexCode</th>\n",
       "    </tr>\n",
       "  </thead>\n",
       "  <tbody>\n",
       "    <tr>\n",
       "      <th>1</th>\n",
       "      <td>Allison, Miss Helen Loraine</td>\n",
       "      <td>1st</td>\n",
       "      <td>2.0</td>\n",
       "      <td>female</td>\n",
       "      <td>0</td>\n",
       "      <td>1</td>\n",
       "    </tr>\n",
       "    <tr>\n",
       "      <th>2</th>\n",
       "      <td>Allison, Mr Hudson Joshua Creighton</td>\n",
       "      <td>1st</td>\n",
       "      <td>30.0</td>\n",
       "      <td>male</td>\n",
       "      <td>0</td>\n",
       "      <td>0</td>\n",
       "    </tr>\n",
       "    <tr>\n",
       "      <th>3</th>\n",
       "      <td>Allison, Mrs Hudson JC (Bessie Waldo Daniels)</td>\n",
       "      <td>1st</td>\n",
       "      <td>25.0</td>\n",
       "      <td>female</td>\n",
       "      <td>0</td>\n",
       "      <td>1</td>\n",
       "    </tr>\n",
       "  </tbody>\n",
       "</table>\n",
       "</div>"
      ],
      "text/plain": [
       "                                            Name PClass   Age     Sex  \\\n",
       "1                    Allison, Miss Helen Loraine    1st   2.0  female   \n",
       "2            Allison, Mr Hudson Joshua Creighton    1st  30.0    male   \n",
       "3  Allison, Mrs Hudson JC (Bessie Waldo Daniels)    1st  25.0  female   \n",
       "\n",
       "   Survived  SexCode  \n",
       "1         0        1  \n",
       "2         0        0  \n",
       "3         0        1  "
      ]
     },
     "execution_count": 18,
     "metadata": {},
     "output_type": "execute_result"
    }
   ],
   "source": [
    "url = 'https://raw.githubusercontent.com/chrisalbon/simulated_datasets/master/titanic.csv'\n",
    "dataframe = pd.read_csv(url)\n",
    "dataframe.iloc[1:4]"
   ]
  },
  {
   "cell_type": "markdown",
   "id": "4a31e258",
   "metadata": {},
   "source": [
    "## 2.2.7 Пример\n",
    "Задача: Требуется отобрать строки фрейма данных на основе некоторого\n",
    "условия. Необходимо сформировать новый фрейм данных из\n",
    "пассажиров первого класса.\n"
   ]
  },
  {
   "cell_type": "code",
   "execution_count": 19,
   "id": "c95e35db",
   "metadata": {},
   "outputs": [
    {
     "data": {
      "text/html": [
       "<div>\n",
       "<style scoped>\n",
       "    .dataframe tbody tr th:only-of-type {\n",
       "        vertical-align: middle;\n",
       "    }\n",
       "\n",
       "    .dataframe tbody tr th {\n",
       "        vertical-align: top;\n",
       "    }\n",
       "\n",
       "    .dataframe thead th {\n",
       "        text-align: right;\n",
       "    }\n",
       "</style>\n",
       "<table border=\"1\" class=\"dataframe\">\n",
       "  <thead>\n",
       "    <tr style=\"text-align: right;\">\n",
       "      <th></th>\n",
       "      <th>Name</th>\n",
       "      <th>PClass</th>\n",
       "      <th>Age</th>\n",
       "      <th>Sex</th>\n",
       "      <th>Survived</th>\n",
       "      <th>SexCode</th>\n",
       "    </tr>\n",
       "  </thead>\n",
       "  <tbody>\n",
       "    <tr>\n",
       "      <th>0</th>\n",
       "      <td>Allen, Miss Elisabeth Walton</td>\n",
       "      <td>1st</td>\n",
       "      <td>29.0</td>\n",
       "      <td>female</td>\n",
       "      <td>1</td>\n",
       "      <td>1</td>\n",
       "    </tr>\n",
       "    <tr>\n",
       "      <th>1</th>\n",
       "      <td>Allison, Miss Helen Loraine</td>\n",
       "      <td>1st</td>\n",
       "      <td>2.0</td>\n",
       "      <td>female</td>\n",
       "      <td>0</td>\n",
       "      <td>1</td>\n",
       "    </tr>\n",
       "  </tbody>\n",
       "</table>\n",
       "</div>"
      ],
      "text/plain": [
       "                           Name PClass   Age     Sex  Survived  SexCode\n",
       "0  Allen, Miss Elisabeth Walton    1st  29.0  female         1        1\n",
       "1   Allison, Miss Helen Loraine    1st   2.0  female         0        1"
      ]
     },
     "execution_count": 19,
     "metadata": {},
     "output_type": "execute_result"
    }
   ],
   "source": [
    "url = 'https://raw.githubusercontent.com/chrisalbon/simulated_datasets/master/titanic.csv'\n",
    "dataframe = pd.read_csv(url)\n",
    "dataframe[dataframe['PClass'] == '1st'].head(2)"
   ]
  },
  {
   "cell_type": "markdown",
   "id": "f8e69f1d",
   "metadata": {},
   "source": [
    "## 2.3.1 Задание\n",
    "Задача: Найдитн евклидово расстояние между двумя Series (точками) a и b, не\n",
    "используя встроенную формулу."
   ]
  },
  {
   "cell_type": "code",
   "execution_count": 20,
   "id": "2477dea2",
   "metadata": {},
   "outputs": [
    {
     "name": "stdout",
     "output_type": "stream",
     "text": [
      "2.0\n"
     ]
    }
   ],
   "source": [
    "import pandas as pd\n",
    "a = pd.Series([2,4,6,8])\n",
    "b = pd.Series([1,3,5,7])\n",
    "print(sum((a - b)**2)**.5)"
   ]
  },
  {
   "cell_type": "markdown",
   "id": "891d3abe",
   "metadata": {},
   "source": [
    "## 2.3.2 Задание\n",
    "Задача: Найдите в Интернете ссылку на любой csv файл и сформируйте из\n",
    "него фрейм данных (например, коллекцию фреймов данных можно\n",
    "найти здесь: https://github.com/akmand/datasets)."
   ]
  },
  {
   "cell_type": "code",
   "execution_count": 21,
   "id": "cfa0ad82",
   "metadata": {},
   "outputs": [
    {
     "data": {
      "text/html": [
       "<div>\n",
       "<style scoped>\n",
       "    .dataframe tbody tr th:only-of-type {\n",
       "        vertical-align: middle;\n",
       "    }\n",
       "\n",
       "    .dataframe tbody tr th {\n",
       "        vertical-align: top;\n",
       "    }\n",
       "\n",
       "    .dataframe thead th {\n",
       "        text-align: right;\n",
       "    }\n",
       "</style>\n",
       "<table border=\"1\" class=\"dataframe\">\n",
       "  <thead>\n",
       "    <tr style=\"text-align: right;\">\n",
       "      <th></th>\n",
       "      <th>carat</th>\n",
       "      <th>cut</th>\n",
       "      <th>color</th>\n",
       "      <th>clarity</th>\n",
       "      <th>depth</th>\n",
       "      <th>table</th>\n",
       "      <th>x</th>\n",
       "      <th>y</th>\n",
       "      <th>z</th>\n",
       "      <th>price</th>\n",
       "    </tr>\n",
       "  </thead>\n",
       "  <tbody>\n",
       "    <tr>\n",
       "      <th>0</th>\n",
       "      <td>0.23</td>\n",
       "      <td>Ideal</td>\n",
       "      <td>E</td>\n",
       "      <td>SI2</td>\n",
       "      <td>61.5</td>\n",
       "      <td>55.0</td>\n",
       "      <td>3.95</td>\n",
       "      <td>3.98</td>\n",
       "      <td>2.43</td>\n",
       "      <td>326</td>\n",
       "    </tr>\n",
       "    <tr>\n",
       "      <th>1</th>\n",
       "      <td>0.21</td>\n",
       "      <td>Premium</td>\n",
       "      <td>E</td>\n",
       "      <td>SI1</td>\n",
       "      <td>59.8</td>\n",
       "      <td>61.0</td>\n",
       "      <td>3.89</td>\n",
       "      <td>3.84</td>\n",
       "      <td>2.31</td>\n",
       "      <td>326</td>\n",
       "    </tr>\n",
       "    <tr>\n",
       "      <th>2</th>\n",
       "      <td>0.23</td>\n",
       "      <td>Good</td>\n",
       "      <td>E</td>\n",
       "      <td>VS1</td>\n",
       "      <td>56.9</td>\n",
       "      <td>65.0</td>\n",
       "      <td>4.05</td>\n",
       "      <td>4.07</td>\n",
       "      <td>2.31</td>\n",
       "      <td>327</td>\n",
       "    </tr>\n",
       "    <tr>\n",
       "      <th>3</th>\n",
       "      <td>0.29</td>\n",
       "      <td>Premium</td>\n",
       "      <td>I</td>\n",
       "      <td>VS2</td>\n",
       "      <td>62.4</td>\n",
       "      <td>58.0</td>\n",
       "      <td>4.20</td>\n",
       "      <td>4.23</td>\n",
       "      <td>2.63</td>\n",
       "      <td>334</td>\n",
       "    </tr>\n",
       "    <tr>\n",
       "      <th>4</th>\n",
       "      <td>0.31</td>\n",
       "      <td>Good</td>\n",
       "      <td>J</td>\n",
       "      <td>SI2</td>\n",
       "      <td>63.3</td>\n",
       "      <td>58.0</td>\n",
       "      <td>4.34</td>\n",
       "      <td>4.35</td>\n",
       "      <td>2.75</td>\n",
       "      <td>335</td>\n",
       "    </tr>\n",
       "    <tr>\n",
       "      <th>5</th>\n",
       "      <td>0.24</td>\n",
       "      <td>Very Good</td>\n",
       "      <td>J</td>\n",
       "      <td>VVS2</td>\n",
       "      <td>62.8</td>\n",
       "      <td>57.0</td>\n",
       "      <td>3.94</td>\n",
       "      <td>3.96</td>\n",
       "      <td>2.48</td>\n",
       "      <td>336</td>\n",
       "    </tr>\n",
       "    <tr>\n",
       "      <th>6</th>\n",
       "      <td>0.24</td>\n",
       "      <td>Very Good</td>\n",
       "      <td>I</td>\n",
       "      <td>VVS1</td>\n",
       "      <td>62.3</td>\n",
       "      <td>57.0</td>\n",
       "      <td>3.95</td>\n",
       "      <td>3.98</td>\n",
       "      <td>2.47</td>\n",
       "      <td>336</td>\n",
       "    </tr>\n",
       "    <tr>\n",
       "      <th>7</th>\n",
       "      <td>0.26</td>\n",
       "      <td>Very Good</td>\n",
       "      <td>H</td>\n",
       "      <td>SI1</td>\n",
       "      <td>61.9</td>\n",
       "      <td>55.0</td>\n",
       "      <td>4.07</td>\n",
       "      <td>4.11</td>\n",
       "      <td>2.53</td>\n",
       "      <td>337</td>\n",
       "    </tr>\n",
       "    <tr>\n",
       "      <th>8</th>\n",
       "      <td>0.22</td>\n",
       "      <td>Fair</td>\n",
       "      <td>E</td>\n",
       "      <td>VS2</td>\n",
       "      <td>65.1</td>\n",
       "      <td>61.0</td>\n",
       "      <td>3.87</td>\n",
       "      <td>3.78</td>\n",
       "      <td>2.49</td>\n",
       "      <td>337</td>\n",
       "    </tr>\n",
       "    <tr>\n",
       "      <th>9</th>\n",
       "      <td>0.23</td>\n",
       "      <td>Very Good</td>\n",
       "      <td>H</td>\n",
       "      <td>VS1</td>\n",
       "      <td>59.4</td>\n",
       "      <td>61.0</td>\n",
       "      <td>4.00</td>\n",
       "      <td>4.05</td>\n",
       "      <td>2.39</td>\n",
       "      <td>338</td>\n",
       "    </tr>\n",
       "    <tr>\n",
       "      <th>10</th>\n",
       "      <td>0.30</td>\n",
       "      <td>Good</td>\n",
       "      <td>J</td>\n",
       "      <td>SI1</td>\n",
       "      <td>64.0</td>\n",
       "      <td>55.0</td>\n",
       "      <td>4.25</td>\n",
       "      <td>4.28</td>\n",
       "      <td>2.73</td>\n",
       "      <td>339</td>\n",
       "    </tr>\n",
       "    <tr>\n",
       "      <th>11</th>\n",
       "      <td>0.23</td>\n",
       "      <td>Ideal</td>\n",
       "      <td>J</td>\n",
       "      <td>VS1</td>\n",
       "      <td>62.8</td>\n",
       "      <td>56.0</td>\n",
       "      <td>3.93</td>\n",
       "      <td>3.90</td>\n",
       "      <td>2.46</td>\n",
       "      <td>340</td>\n",
       "    </tr>\n",
       "    <tr>\n",
       "      <th>12</th>\n",
       "      <td>0.22</td>\n",
       "      <td>Premium</td>\n",
       "      <td>F</td>\n",
       "      <td>SI1</td>\n",
       "      <td>60.4</td>\n",
       "      <td>61.0</td>\n",
       "      <td>3.88</td>\n",
       "      <td>3.84</td>\n",
       "      <td>2.33</td>\n",
       "      <td>342</td>\n",
       "    </tr>\n",
       "    <tr>\n",
       "      <th>13</th>\n",
       "      <td>0.31</td>\n",
       "      <td>Ideal</td>\n",
       "      <td>J</td>\n",
       "      <td>SI2</td>\n",
       "      <td>62.2</td>\n",
       "      <td>54.0</td>\n",
       "      <td>4.35</td>\n",
       "      <td>4.37</td>\n",
       "      <td>2.71</td>\n",
       "      <td>344</td>\n",
       "    </tr>\n",
       "    <tr>\n",
       "      <th>14</th>\n",
       "      <td>0.20</td>\n",
       "      <td>Premium</td>\n",
       "      <td>E</td>\n",
       "      <td>SI2</td>\n",
       "      <td>60.2</td>\n",
       "      <td>62.0</td>\n",
       "      <td>3.79</td>\n",
       "      <td>3.75</td>\n",
       "      <td>2.27</td>\n",
       "      <td>345</td>\n",
       "    </tr>\n",
       "  </tbody>\n",
       "</table>\n",
       "</div>"
      ],
      "text/plain": [
       "    carat        cut color clarity  depth  table     x     y     z  price\n",
       "0    0.23      Ideal     E     SI2   61.5   55.0  3.95  3.98  2.43    326\n",
       "1    0.21    Premium     E     SI1   59.8   61.0  3.89  3.84  2.31    326\n",
       "2    0.23       Good     E     VS1   56.9   65.0  4.05  4.07  2.31    327\n",
       "3    0.29    Premium     I     VS2   62.4   58.0  4.20  4.23  2.63    334\n",
       "4    0.31       Good     J     SI2   63.3   58.0  4.34  4.35  2.75    335\n",
       "5    0.24  Very Good     J    VVS2   62.8   57.0  3.94  3.96  2.48    336\n",
       "6    0.24  Very Good     I    VVS1   62.3   57.0  3.95  3.98  2.47    336\n",
       "7    0.26  Very Good     H     SI1   61.9   55.0  4.07  4.11  2.53    337\n",
       "8    0.22       Fair     E     VS2   65.1   61.0  3.87  3.78  2.49    337\n",
       "9    0.23  Very Good     H     VS1   59.4   61.0  4.00  4.05  2.39    338\n",
       "10   0.30       Good     J     SI1   64.0   55.0  4.25  4.28  2.73    339\n",
       "11   0.23      Ideal     J     VS1   62.8   56.0  3.93  3.90  2.46    340\n",
       "12   0.22    Premium     F     SI1   60.4   61.0  3.88  3.84  2.33    342\n",
       "13   0.31      Ideal     J     SI2   62.2   54.0  4.35  4.37  2.71    344\n",
       "14   0.20    Premium     E     SI2   60.2   62.0  3.79  3.75  2.27    345"
      ]
     },
     "execution_count": 21,
     "metadata": {},
     "output_type": "execute_result"
    }
   ],
   "source": [
    "import pandas as pd\n",
    "data = pd.read_csv(r\"https://raw.githubusercontent.com/akmand/datasets/main/diamonds.csv\")\n",
    "data.head(15)"
   ]
  },
  {
   "cell_type": "markdown",
   "id": "8b7032d6",
   "metadata": {},
   "source": [
    "## 2.3.3 Задание\n",
    "Задача: Проделайте с получившемся из предыдущего задания фреймом данных\n",
    "те же действия, что и в примерах 2.2.5-2.2.7.\n"
   ]
  },
  {
   "cell_type": "code",
   "execution_count": 22,
   "id": "d7038918",
   "metadata": {},
   "outputs": [
    {
     "name": "stdout",
     "output_type": "stream",
     "text": [
      "   carat      cut color clarity  depth  table     x     y     z  price\n",
      "0   0.23    Ideal     E     SI2   61.5   55.0  3.95  3.98  2.43    326\n",
      "1   0.21  Premium     E     SI1   59.8   61.0  3.89  3.84  2.31    326 \n",
      "\n",
      "       carat        cut color clarity  depth  table     x     y     z  price\n",
      "53937   0.70  Very Good     D     SI1   62.8   60.0  5.66  5.68  3.56   2757\n",
      "53938   0.86    Premium     H     SI2   61.0   58.0  6.15  6.12  3.74   2757\n",
      "53939   0.75      Ideal     D     SI2   62.2   55.0  5.83  5.87  3.64   2757 \n",
      "\n",
      "(53940, 10) \n",
      "\n",
      "              carat         depth         table             x             y  \\\n",
      "count  53940.000000  53940.000000  53940.000000  53940.000000  53940.000000   \n",
      "mean       0.797940     61.749405     57.457184      5.731157      5.734526   \n",
      "std        0.474011      1.432621      2.234491      1.121761      1.142135   \n",
      "min        0.200000     43.000000     43.000000      0.000000      0.000000   \n",
      "25%        0.400000     61.000000     56.000000      4.710000      4.720000   \n",
      "50%        0.700000     61.800000     57.000000      5.700000      5.710000   \n",
      "75%        1.040000     62.500000     59.000000      6.540000      6.540000   \n",
      "max        5.010000     79.000000     95.000000     10.740000     58.900000   \n",
      "\n",
      "                  z         price  \n",
      "count  53940.000000  53940.000000  \n",
      "mean       3.538734   3932.799722  \n",
      "std        0.705699   3989.439738  \n",
      "min        0.000000    326.000000  \n",
      "25%        2.910000    950.000000  \n",
      "50%        3.530000   2401.000000  \n",
      "75%        4.040000   5324.250000  \n",
      "max       31.800000  18823.000000   \n",
      "\n",
      "   carat      cut color clarity  depth  table     x     y     z  price\n",
      "1   0.21  Premium     E     SI1   59.8   61.0  3.89  3.84  2.31    326\n",
      "2   0.23     Good     E     VS1   56.9   65.0  4.05  4.07  2.31    327\n",
      "3   0.29  Premium     I     VS2   62.4   58.0  4.20  4.23  2.63    334\n",
      "4   0.31     Good     J     SI2   63.3   58.0  4.34  4.35  2.75    335 \n",
      "\n",
      "    carat    cut color clarity  depth  table     x     y     z  price\n",
      "0    0.23  Ideal     E     SI2   61.5   55.0  3.95  3.98  2.43    326\n",
      "11   0.23  Ideal     J     VS1   62.8   56.0  3.93  3.90  2.46    340\n",
      "13   0.31  Ideal     J     SI2   62.2   54.0  4.35  4.37  2.71    344 \n",
      "\n"
     ]
    }
   ],
   "source": [
    "import pandas as pd\n",
    "\n",
    "diamonds_data = pd.read_csv(r\"https://raw.githubusercontent.com/akmand/datasets/main/diamonds.csv\")  ## Номер 2.3.3\n",
    "print(diamonds_data.head(2),\"\\n\")\n",
    "print(diamonds_data.tail(3),\"\\n\")\n",
    "print(diamonds_data.shape,\"\\n\")\n",
    "print(diamonds_data.describe(),\"\\n\")\n",
    "print(diamonds_data.iloc[1:5],\"\\n\")\n",
    "print(diamonds_data[diamonds_data[\"cut\"] == \"Ideal\"].head(3),\"\\n\")"
   ]
  },
  {
   "cell_type": "markdown",
   "id": "a958fbd6",
   "metadata": {},
   "source": [
    "<h2>3.1. Теоретический материал – Работа с числовыми данными.</h2>\n",
    "<p>Количественные данные что-то измеряют – будь то размер класса, ежемесячные продажи или оценки учащихся. Естественным способом представления этих величин является численным (например, 150 студентов, $529 392 продаж).</p>\n",
    "<p><i><b>Нормализация данных</b></i> — это общепринятая задача предобработки в машинном обучении. Многие алгоритмы предполагают, что все признаки находятся в единой шкале, как правило, от 0 до 1 или от -1 до 1. </p>\n",
    "<p>Существует множество способов нормализации значений признаков, чтобы масштабировать их к единому диапазону и использовать в различных моделях машинного обучения. В зависимости от используемой функции, их можно разделить на 2 большие группы: линейные и нелинейные. При нелинейной нормализации в расчетных соотношениях используются функции логистической сигмоиды или гиперболического тангенса. В линейной нормализации изменение переменных осуществляется пропорционально, по линейному закону.</p>\n",
    "<p>На практике наиболее распространены следующие методы нормализации признаков:</p>\n",
    "<ul>\n",
    "<li><b><i>Минимакс</i></b> – линейное преобразование данных в диапазоне [0..1], где минимальное и максимальное масштабируемые значения соответствуют 0 и 1 соответственно;</li>\n",
    "<li><b><i>Z-масштабирование </i></b>данных на основе среднего значения и стандартного отклонения: производят деление разницы между переменной и средним значением на стандартное отклонение.</li>\n",
    "</ul>"
   ]
  },
  {
   "attachments": {
    "image.png": {
     "image/png": "[encoded data removed]"
    }
   },
   "cell_type": "markdown",
   "id": "83e9b4fb",
   "metadata": {},
   "source": [
    "![image.png](attachment:image.png)"
   ]
  },
  {
   "cell_type": "markdown",
   "id": "4a9e4281",
   "metadata": {},
   "source": [
    "<p>При масштабировании данных мы будем использовать одну из популярных библиотек машинного обучения Scikit-learn. Библиотека содержит пакет sklearn.preprocessing, который предоставляет широкие возможности для нормализации данных. Следует отметить, что в целом алгоритмы обучения выигрывают от стандартизации набора данных.</p>"
   ]
  },
  {
   "cell_type": "markdown",
   "id": "eb740f18",
   "metadata": {},
   "source": [
    "## 3.2.1. Пример\n",
    "Задача: Прошкалируйте числовой признак в диапазон между двумя значениями."
   ]
  },
  {
   "cell_type": "code",
   "execution_count": 23,
   "id": "61dc7f97",
   "metadata": {},
   "outputs": [
    {
     "data": {
      "text/plain": [
       "array([[0.        ],\n",
       "       [0.28571429],\n",
       "       [0.35714286],\n",
       "       [0.42857143],\n",
       "       [1.        ]])"
      ]
     },
     "execution_count": 23,
     "metadata": {},
     "output_type": "execute_result"
    }
   ],
   "source": [
    "#Загрузить библиотеки\n",
    "from sklearn import preprocessing\n",
    "import numpy as np\n",
    "#Создать признак\n",
    "feature = np.array([[-500.5], [-100.1], [0], [100.1], [900.9]])\n",
    "#Создать шкалировщик\n",
    "minmaxscale = preprocessing.MinMaxScaler(feature_range = (0,1))\n",
    "\n",
    "#Прошкалировать признак\n",
    "scaled_feature = minmaxscale.fit_transform(feature)\n",
    "\n",
    "#Показать прошкалированный признак\n",
    "scaled_feature"
   ]
  },
  {
   "cell_type": "markdown",
   "id": "431db4a5",
   "metadata": {},
   "source": [
    "## 3.2.2. Пример\n",
    "Задача: Преобразуйте признак, чтобы он имел среднее значение 0 и стандартное\n",
    "отклонение 1."
   ]
  },
  {
   "cell_type": "code",
   "execution_count": 24,
   "id": "935b285e",
   "metadata": {},
   "outputs": [
    {
     "data": {
      "text/plain": [
       "array([[-1.26687088],\n",
       "       [-0.39316683],\n",
       "       [-0.17474081],\n",
       "       [ 0.0436852 ],\n",
       "       [ 1.79109332]])"
      ]
     },
     "execution_count": 24,
     "metadata": {},
     "output_type": "execute_result"
    }
   ],
   "source": [
    "x = np.array([[-500.5], [-100.1], [0], [100.1], [900.9]])\n",
    "#Создать шкалировщик\n",
    "scaler = preprocessing.StandardScaler()\n",
    "#Преобразовать признак\n",
    "standardized = scaler.fit_transform(x)\n",
    "#Показать признак\n",
    "standardized"
   ]
  },
  {
   "cell_type": "markdown",
   "id": "122cdb22",
   "metadata": {},
   "source": [
    "## 3.2.3. Пример\n",
    "Задача: Дан фрейм данных\n",
    "<br>dfTest = pd.DataFrame({'A':[14.00,90.20,90.95,96.27,91.21],\n",
    " <br>'B':[103.02,107.26,110.35,114.23,114.68],\n",
    " <br>'C':['big','small','big','small','small']})\n",
    "<br>Необходимо масштабировать его числовые столбцы.\n"
   ]
  },
  {
   "cell_type": "code",
   "execution_count": 25,
   "id": "d65acba2",
   "metadata": {},
   "outputs": [
    {
     "data": {
      "text/html": [
       "<div>\n",
       "<style scoped>\n",
       "    .dataframe tbody tr th:only-of-type {\n",
       "        vertical-align: middle;\n",
       "    }\n",
       "\n",
       "    .dataframe tbody tr th {\n",
       "        vertical-align: top;\n",
       "    }\n",
       "\n",
       "    .dataframe thead th {\n",
       "        text-align: right;\n",
       "    }\n",
       "</style>\n",
       "<table border=\"1\" class=\"dataframe\">\n",
       "  <thead>\n",
       "    <tr style=\"text-align: right;\">\n",
       "      <th></th>\n",
       "      <th>A</th>\n",
       "      <th>B</th>\n",
       "      <th>C</th>\n",
       "    </tr>\n",
       "  </thead>\n",
       "  <tbody>\n",
       "    <tr>\n",
       "      <th>0</th>\n",
       "      <td>0.000000</td>\n",
       "      <td>0.000000</td>\n",
       "      <td>big</td>\n",
       "    </tr>\n",
       "    <tr>\n",
       "      <th>1</th>\n",
       "      <td>0.926219</td>\n",
       "      <td>0.363636</td>\n",
       "      <td>small</td>\n",
       "    </tr>\n",
       "    <tr>\n",
       "      <th>2</th>\n",
       "      <td>0.935335</td>\n",
       "      <td>0.628645</td>\n",
       "      <td>big</td>\n",
       "    </tr>\n",
       "    <tr>\n",
       "      <th>3</th>\n",
       "      <td>1.000000</td>\n",
       "      <td>0.961407</td>\n",
       "      <td>small</td>\n",
       "    </tr>\n",
       "    <tr>\n",
       "      <th>4</th>\n",
       "      <td>0.938495</td>\n",
       "      <td>1.000000</td>\n",
       "      <td>small</td>\n",
       "    </tr>\n",
       "  </tbody>\n",
       "</table>\n",
       "</div>"
      ],
      "text/plain": [
       "          A         B      C\n",
       "0  0.000000  0.000000    big\n",
       "1  0.926219  0.363636  small\n",
       "2  0.935335  0.628645    big\n",
       "3  1.000000  0.961407  small\n",
       "4  0.938495  1.000000  small"
      ]
     },
     "execution_count": 25,
     "metadata": {},
     "output_type": "execute_result"
    }
   ],
   "source": [
    "from sklearn.preprocessing import MinMaxScaler\n",
    "scaler = MinMaxScaler()\n",
    "dfTest = pd.DataFrame({'A':[14.00,90.20,90.95,96.27,91.21],\n",
    "                       'B':[103.02,107.26,110.35,114.23,114.68],\n",
    "                       'C':['big','small','big','small','small']})\n",
    "dfTest[['A', 'B']] = scaler.fit_transform(dfTest[['A', 'B']])\n",
    "dfTest"
   ]
  },
  {
   "cell_type": "code",
   "execution_count": 26,
   "id": "65c86e7d",
   "metadata": {},
   "outputs": [
    {
     "data": {
      "text/html": [
       "<div>\n",
       "<style scoped>\n",
       "    .dataframe tbody tr th:only-of-type {\n",
       "        vertical-align: middle;\n",
       "    }\n",
       "\n",
       "    .dataframe tbody tr th {\n",
       "        vertical-align: top;\n",
       "    }\n",
       "\n",
       "    .dataframe thead th {\n",
       "        text-align: right;\n",
       "    }\n",
       "</style>\n",
       "<table border=\"1\" class=\"dataframe\">\n",
       "  <thead>\n",
       "    <tr style=\"text-align: right;\">\n",
       "      <th></th>\n",
       "      <th>ФИО</th>\n",
       "      <th>Рост</th>\n",
       "      <th>Xnorm</th>\n",
       "      <th>Z</th>\n",
       "    </tr>\n",
       "  </thead>\n",
       "  <tbody>\n",
       "    <tr>\n",
       "      <th>0</th>\n",
       "      <td>Курдяев Дмитрий Евгеньевич</td>\n",
       "      <td>185</td>\n",
       "      <td>0.913043</td>\n",
       "      <td>0.835532</td>\n",
       "    </tr>\n",
       "    <tr>\n",
       "      <th>1</th>\n",
       "      <td>Сорочинский Даниил Сергеевич</td>\n",
       "      <td>180</td>\n",
       "      <td>0.695652</td>\n",
       "      <td>0.158074</td>\n",
       "    </tr>\n",
       "    <tr>\n",
       "      <th>2</th>\n",
       "      <td>Тюркина Полина Юрьевна</td>\n",
       "      <td>164</td>\n",
       "      <td>0.000000</td>\n",
       "      <td>-2.009792</td>\n",
       "    </tr>\n",
       "    <tr>\n",
       "      <th>3</th>\n",
       "      <td>Тухлодыров Матвей Алексеевич</td>\n",
       "      <td>179</td>\n",
       "      <td>0.652174</td>\n",
       "      <td>0.022582</td>\n",
       "    </tr>\n",
       "    <tr>\n",
       "      <th>4</th>\n",
       "      <td>Молодой Илья Евгеньевич</td>\n",
       "      <td>178</td>\n",
       "      <td>0.608696</td>\n",
       "      <td>-0.112910</td>\n",
       "    </tr>\n",
       "    <tr>\n",
       "      <th>5</th>\n",
       "      <td>Кротов Матвей Алексеевич</td>\n",
       "      <td>187</td>\n",
       "      <td>1.000000</td>\n",
       "      <td>1.106515</td>\n",
       "    </tr>\n",
       "  </tbody>\n",
       "</table>\n",
       "</div>"
      ],
      "text/plain": [
       "                            ФИО  Рост     Xnorm         Z\n",
       "0    Курдяев Дмитрий Евгеньевич   185  0.913043  0.835532\n",
       "1  Сорочинский Даниил Сергеевич   180  0.695652  0.158074\n",
       "2        Тюркина Полина Юрьевна   164  0.000000 -2.009792\n",
       "3  Тухлодыров Матвей Алексеевич   179  0.652174  0.022582\n",
       "4       Молодой Илья Евгеньевич   178  0.608696 -0.112910\n",
       "5      Кротов Матвей Алексеевич   187  1.000000  1.106515"
      ]
     },
     "execution_count": 26,
     "metadata": {},
     "output_type": "execute_result"
    }
   ],
   "source": [
    "import pandas as pd\n",
    "from sklearn.preprocessing import MinMaxScaler ,StandardScaler\n",
    "minmax = MinMaxScaler(feature_range = (0,1))\n",
    "scaled = StandardScaler()\n",
    "dataframe = pd.DataFrame({'ФИО': [\"Курдяев Дмитрий Евгеньевич\",\"Сорочинский Даниил Сергеевич\",\"Тюркина Полина Юрьевна\",\"Тухлодыров Матвей Алексеевич\",\"Молодой Илья Евгеньевич\",\"Кротов Матвей Алексеевич\"],\n",
    "                  'Рост': [185,180,164,179,178,187],\n",
    "                  'Xnorm':[0,0,0,0,0,0],\n",
    "                  'Z': [0,0,0,0,0,0]})\n",
    "dataframe[[\"Xnorm\"]] = minmax.fit_transform(dataframe[[\"Рост\"]])\n",
    "dataframe[[\"Z\"]] = scaled.fit_transform(dataframe[[\"Рост\"]])\n",
    "dataframe"
   ]
  },
  {
   "cell_type": "markdown",
   "id": "856a5d48",
   "metadata": {},
   "source": [
    "## 3.3.2 Задание\n",
    "Задача: Загрузить фрейм данных по ссылке:\n",
    "https://raw.githubusercontent.com/akmand/datasets/master/iris.csv.\n",
    "Необходимо выполнить нормализацию первого числового признака\n",
    "(sepal_length_cm) с использованием минимаксного преобразования, а\n",
    "второго (sepal_width_cm) с задействованием z-масштабирования."
   ]
  },
  {
   "cell_type": "code",
   "execution_count": 27,
   "id": "b9301d8b",
   "metadata": {},
   "outputs": [
    {
     "data": {
      "text/html": [
       "<div>\n",
       "<style scoped>\n",
       "    .dataframe tbody tr th:only-of-type {\n",
       "        vertical-align: middle;\n",
       "    }\n",
       "\n",
       "    .dataframe tbody tr th {\n",
       "        vertical-align: top;\n",
       "    }\n",
       "\n",
       "    .dataframe thead th {\n",
       "        text-align: right;\n",
       "    }\n",
       "</style>\n",
       "<table border=\"1\" class=\"dataframe\">\n",
       "  <thead>\n",
       "    <tr style=\"text-align: right;\">\n",
       "      <th></th>\n",
       "      <th>sepal_length_cm</th>\n",
       "      <th>sepal_width_cm</th>\n",
       "      <th>petal_length_cm</th>\n",
       "      <th>petal_width_cm</th>\n",
       "      <th>species</th>\n",
       "    </tr>\n",
       "  </thead>\n",
       "  <tbody>\n",
       "    <tr>\n",
       "      <th>0</th>\n",
       "      <td>0.222222</td>\n",
       "      <td>1.032057</td>\n",
       "      <td>1.4</td>\n",
       "      <td>0.2</td>\n",
       "      <td>setosa</td>\n",
       "    </tr>\n",
       "    <tr>\n",
       "      <th>1</th>\n",
       "      <td>0.166667</td>\n",
       "      <td>-0.124958</td>\n",
       "      <td>1.4</td>\n",
       "      <td>0.2</td>\n",
       "      <td>setosa</td>\n",
       "    </tr>\n",
       "    <tr>\n",
       "      <th>2</th>\n",
       "      <td>0.111111</td>\n",
       "      <td>0.337848</td>\n",
       "      <td>1.3</td>\n",
       "      <td>0.2</td>\n",
       "      <td>setosa</td>\n",
       "    </tr>\n",
       "    <tr>\n",
       "      <th>3</th>\n",
       "      <td>0.083333</td>\n",
       "      <td>0.106445</td>\n",
       "      <td>1.5</td>\n",
       "      <td>0.2</td>\n",
       "      <td>setosa</td>\n",
       "    </tr>\n",
       "    <tr>\n",
       "      <th>4</th>\n",
       "      <td>0.194444</td>\n",
       "      <td>1.263460</td>\n",
       "      <td>1.4</td>\n",
       "      <td>0.2</td>\n",
       "      <td>setosa</td>\n",
       "    </tr>\n",
       "    <tr>\n",
       "      <th>5</th>\n",
       "      <td>0.305556</td>\n",
       "      <td>1.957669</td>\n",
       "      <td>1.7</td>\n",
       "      <td>0.4</td>\n",
       "      <td>setosa</td>\n",
       "    </tr>\n",
       "    <tr>\n",
       "      <th>6</th>\n",
       "      <td>0.083333</td>\n",
       "      <td>0.800654</td>\n",
       "      <td>1.4</td>\n",
       "      <td>0.3</td>\n",
       "      <td>setosa</td>\n",
       "    </tr>\n",
       "    <tr>\n",
       "      <th>7</th>\n",
       "      <td>0.194444</td>\n",
       "      <td>0.800654</td>\n",
       "      <td>1.5</td>\n",
       "      <td>0.2</td>\n",
       "      <td>setosa</td>\n",
       "    </tr>\n",
       "    <tr>\n",
       "      <th>8</th>\n",
       "      <td>0.027778</td>\n",
       "      <td>-0.356361</td>\n",
       "      <td>1.4</td>\n",
       "      <td>0.2</td>\n",
       "      <td>setosa</td>\n",
       "    </tr>\n",
       "    <tr>\n",
       "      <th>9</th>\n",
       "      <td>0.166667</td>\n",
       "      <td>0.106445</td>\n",
       "      <td>1.5</td>\n",
       "      <td>0.1</td>\n",
       "      <td>setosa</td>\n",
       "    </tr>\n",
       "  </tbody>\n",
       "</table>\n",
       "</div>"
      ],
      "text/plain": [
       "   sepal_length_cm  sepal_width_cm  petal_length_cm  petal_width_cm species\n",
       "0         0.222222        1.032057              1.4             0.2  setosa\n",
       "1         0.166667       -0.124958              1.4             0.2  setosa\n",
       "2         0.111111        0.337848              1.3             0.2  setosa\n",
       "3         0.083333        0.106445              1.5             0.2  setosa\n",
       "4         0.194444        1.263460              1.4             0.2  setosa\n",
       "5         0.305556        1.957669              1.7             0.4  setosa\n",
       "6         0.083333        0.800654              1.4             0.3  setosa\n",
       "7         0.194444        0.800654              1.5             0.2  setosa\n",
       "8         0.027778       -0.356361              1.4             0.2  setosa\n",
       "9         0.166667        0.106445              1.5             0.1  setosa"
      ]
     },
     "execution_count": 27,
     "metadata": {},
     "output_type": "execute_result"
    }
   ],
   "source": [
    "from sklearn.preprocessing import MinMaxScaler ,StandardScaler\n",
    "url = 'https://raw.githubusercontent.com/akmand/datasets/master/iris.csv'\n",
    "dataframe = pd.read_csv(url)\n",
    "minmax = MinMaxScaler(feature_range = (0,1))\n",
    "scaled = StandardScaler()\n",
    "dataframe[[\"sepal_length_cm\"]] = minmax.fit_transform(dataframe[[\"sepal_length_cm\"]])\n",
    "dataframe[[\"sepal_width_cm\"]] = scaled.fit_transform(dataframe[[\"sepal_width_cm\"]])\n",
    "dataframe.head(10)"
   ]
  }
 ],
 "metadata": {
  "kernelspec": {
   "display_name": "Python 3 (ipykernel)",
   "language": "python",
   "name": "python3"
  },
  "language_info": {
   "codemirror_mode": {
    "name": "ipython",
    "version": 3
   },
   "file_extension": ".py",
   "mimetype": "text/x-python",
   "name": "python",
   "nbconvert_exporter": "python",
   "pygments_lexer": "ipython3",
   "version": "3.9.7"
  }
 },
 "nbformat": 4,
 "nbformat_minor": 5
}
